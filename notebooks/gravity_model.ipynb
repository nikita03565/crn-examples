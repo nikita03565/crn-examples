{
 "cells": [
  {
   "cell_type": "code",
   "execution_count": null,
   "metadata": {},
   "outputs": [],
   "source": [
    "import os\n",
    "\n",
    "import geopandas as gpd\n",
    "import numpy as np\n",
    "import pandas as pd\n",
    "from shapely import wkt\n",
    "\n",
    "from city_road_network.algo.gravity_model import (\n",
    "    get_attr_error,\n",
    "    get_prod_error,\n",
    "    run_gravity_model,\n",
    ")\n",
    "from city_road_network.config import default_crs\n",
    "from city_road_network.utils.utils import get_data_subdir"
   ]
  },
  {
   "cell_type": "code",
   "execution_count": null,
   "metadata": {},
   "outputs": [],
   "source": [
    "# Load data\n",
    "city_name = \"spb\"\n",
    "data_dir = get_data_subdir(city_name)\n",
    "\n",
    "df_zones = pd.read_csv(os.path.join(data_dir, \"zones_upd.csv\"), index_col=0)\n",
    "df_zones[\"geometry\"] = df_zones[\"geometry\"].apply(wkt.loads)\n",
    "df_zones[\"centroid\"] = df_zones[\"centroid\"].apply(wkt.loads)"
   ]
  },
  {
   "cell_type": "code",
   "execution_count": null,
   "metadata": {},
   "outputs": [],
   "source": [
    "# Replace 0 with 1 to prevent errors in the algorithm\n",
    "df_zones.loc[df_zones[\"production\"] == 0, \"production\"] = 1\n",
    "df_zones.loc[df_zones[\"poi_attraction\"] == 0, \"poi_attraction\"] = 1\n",
    "\n",
    "zones_gdf = gpd.GeoDataFrame(df_zones, crs=default_crs)"
   ]
  },
  {
   "cell_type": "code",
   "execution_count": null,
   "metadata": {},
   "outputs": [],
   "source": [
    "prod_array = np.array(zones_gdf[\"production\"])\n",
    "attr_array = np.array(zones_gdf[\"poi_attraction\"])\n",
    "\n",
    "trip_mat = run_gravity_model(zones_gdf)\n",
    "\n",
    "prod_error = get_prod_error(trip_mat, prod_array)\n",
    "attr_error = get_attr_error(trip_mat, attr_array)\n",
    "print(prod_error, attr_error)\n",
    "\n",
    "np.save(os.path.join(data_dir, \"trip_mat\"), trip_mat)"
   ]
  }
 ],
 "metadata": {
  "language_info": {
   "name": "python"
  }
 },
 "nbformat": 4,
 "nbformat_minor": 2
}
