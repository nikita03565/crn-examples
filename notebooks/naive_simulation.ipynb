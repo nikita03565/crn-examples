{
 "cells": [
  {
   "cell_type": "code",
   "execution_count": null,
   "metadata": {},
   "outputs": [],
   "source": [
    "import os\n",
    "import pickle\n",
    "import time\n",
    "\n",
    "import geopandas as gpd\n",
    "import numpy as np\n",
    "import pandas as pd\n",
    "from shapely.wkt import loads\n",
    "\n",
    "from city_road_network.algo.simulation import NaiveSimulation\n",
    "from city_road_network.config import default_crs\n",
    "from city_road_network.utils.io import read_graph\n",
    "from city_road_network.utils.map import draw_trips_map\n",
    "from city_road_network.utils.utils import get_data_subdir, get_html_subdir"
   ]
  },
  {
   "cell_type": "code",
   "execution_count": null,
   "metadata": {},
   "outputs": [],
   "source": [
    "def run_naive_simulation(graph, weight, trip_mat=None, old_paths=None, n=None, batch_size=1000, max_workers=None):\n",
    "    sim = NaiveSimulation(graph, weight)\n",
    "    res = sim.run(trip_mat, old_paths, n, max_workers, batch_size)\n",
    "    return res"
   ]
  },
  {
   "cell_type": "code",
   "execution_count": null,
   "metadata": {},
   "outputs": [],
   "source": [
    "city_name = \"spb\"\n",
    "data_dir = get_data_subdir(city_name)\n",
    "html_dir = get_html_subdir(city_name)\n",
    "G = read_graph(os.path.join(data_dir, \"nodelist_upd.csv\"), os.path.join(data_dir, \"edgelist_upd.csv\"))\n",
    "trip_mat = np.load(os.path.join(data_dir, \"trip_mat.npy\"))\n",
    "\n",
    "# if you want you can load old paths like this:\n",
    "# with open(os.path.join(data_dir, \"paths_by_flow_time_s_1696597874.pkl\"), \"rb\") as f:\n",
    "#    old_paths = pickle.load(f)\n",
    "\n",
    "zones_df = pd.read_csv(os.path.join(data_dir, \"zones_upd.csv\"), index_col=0)\n",
    "zones_df[\"geometry\"] = zones_df[\"geometry\"].apply(loads)\n",
    "zones_gdf = gpd.GeoDataFrame(zones_df, crs=default_crs)"
   ]
  },
  {
   "cell_type": "code",
   "execution_count": null,
   "metadata": {},
   "outputs": [],
   "source": [
    "# running actual simulation\n",
    "weight = \"flow_time (s)\"  # or \"length (m)\"\n",
    "all_paths, new_graph = run_naive_simulation(G, weight, trip_mat)\n",
    "\n",
    "# checking that all paths have been generated\n",
    "for i in range(len(all_paths)):\n",
    "    for j in range(len(all_paths)):\n",
    "        assert len(all_paths[i][j]) == trip_mat[i, j]"
   ]
  },
  {
   "cell_type": "code",
   "execution_count": null,
   "metadata": {},
   "outputs": [],
   "source": [
    "# saving map and paths\n",
    "ts = int(time.time())\n",
    "map = draw_trips_map(new_graph)\n",
    "clean_weight = weight.replace(\"(\", \"\").replace(\")\", \"\").replace(\" \", \"_\")\n",
    "filename = f\"paths_by_{clean_weight}_{ts}\"\n",
    "map.save(os.path.join(html_dir, f\"{filename}.html\"))\n",
    "with open(os.path.join(data_dir, f\"{filename}.pkl\"), \"wb\") as f:\n",
    "    pickle.dump(all_paths, f)"
   ]
  }
 ],
 "metadata": {
  "language_info": {
   "name": "python"
  }
 },
 "nbformat": 4,
 "nbformat_minor": 2
}
